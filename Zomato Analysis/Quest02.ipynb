{
 "cells": [
  {
   "cell_type": "markdown",
   "id": "da21b953",
   "metadata": {},
   "source": [
    "# ZOMATO CASE STUDY\n",
    "## QUEST - 2 : The Cuisine Craze\n",
    "#### Data : Zomato_Order_History.csv\n",
    "Zomato is also interested in which **cuisines are experiencing the highest demand:**\n",
    "\n",
    "- **Focus on cuisines with more than 85 orders.**\n",
    "\n",
    "```\n",
    "Which cuisines are the crowd favorites? Reveal the high demand cusines! \n",
    "```"
   ]
  },
  {
   "cell_type": "code",
   "execution_count": 82,
   "id": "e2ed5f51",
   "metadata": {},
   "outputs": [],
   "source": [
    "# Importing Libs\n",
    "import pandas as pd\n",
    "import matplotlib.pyplot as plt\n",
    "import seaborn as sns "
   ]
  },
  {
   "cell_type": "code",
   "execution_count": 83,
   "id": "34a5313f",
   "metadata": {},
   "outputs": [],
   "source": [
    "# Loading Data \n",
    "orderhistroy_df = pd.read_csv(\"Zomato_Order_History.csv\") # Order history updated file"
   ]
  },
  {
   "cell_type": "code",
   "execution_count": 84,
   "id": "d4130768",
   "metadata": {},
   "outputs": [
    {
     "data": {
      "text/html": [
       "<div>\n",
       "<style scoped>\n",
       "    .dataframe tbody tr th:only-of-type {\n",
       "        vertical-align: middle;\n",
       "    }\n",
       "\n",
       "    .dataframe tbody tr th {\n",
       "        vertical-align: top;\n",
       "    }\n",
       "\n",
       "    .dataframe thead th {\n",
       "        text-align: right;\n",
       "    }\n",
       "</style>\n",
       "<table border=\"1\" class=\"dataframe\">\n",
       "  <thead>\n",
       "    <tr style=\"text-align: right;\">\n",
       "      <th></th>\n",
       "      <th>OrderID</th>\n",
       "      <th>CustomerID</th>\n",
       "      <th>RestaurantID</th>\n",
       "      <th>OrderDate</th>\n",
       "      <th>OrderValue</th>\n",
       "      <th>Cuisine</th>\n",
       "      <th>PaymentMethod</th>\n",
       "      <th>DeliveryTimeMinutes</th>\n",
       "      <th>CustomerRating</th>\n",
       "      <th>PromoCodeUsed</th>\n",
       "    </tr>\n",
       "  </thead>\n",
       "  <tbody>\n",
       "    <tr>\n",
       "      <th>0</th>\n",
       "      <td>ORD1033</td>\n",
       "      <td>CUST671</td>\n",
       "      <td>REST1049</td>\n",
       "      <td>2/3/2024</td>\n",
       "      <td>1064.12</td>\n",
       "      <td>Indian</td>\n",
       "      <td>Credit Card</td>\n",
       "      <td>54</td>\n",
       "      <td>1.0</td>\n",
       "      <td>Yes</td>\n",
       "    </tr>\n",
       "    <tr>\n",
       "      <th>1</th>\n",
       "      <td>ORD1062</td>\n",
       "      <td>CUST787</td>\n",
       "      <td>REST1049</td>\n",
       "      <td>3/3/2024</td>\n",
       "      <td>1807.37</td>\n",
       "      <td>Indian</td>\n",
       "      <td>Credit Card</td>\n",
       "      <td>89</td>\n",
       "      <td>4.0</td>\n",
       "      <td>No</td>\n",
       "    </tr>\n",
       "    <tr>\n",
       "      <th>2</th>\n",
       "      <td>ORD1084</td>\n",
       "      <td>CUST657</td>\n",
       "      <td>REST1049</td>\n",
       "      <td>25-03-2024</td>\n",
       "      <td>775.98</td>\n",
       "      <td>Thai</td>\n",
       "      <td>UPI</td>\n",
       "      <td>55</td>\n",
       "      <td>1.0</td>\n",
       "      <td>Yes</td>\n",
       "    </tr>\n",
       "    <tr>\n",
       "      <th>3</th>\n",
       "      <td>ORD1094</td>\n",
       "      <td>CUST680</td>\n",
       "      <td>REST1049</td>\n",
       "      <td>4/4/2024</td>\n",
       "      <td>1826.73</td>\n",
       "      <td>Chinese</td>\n",
       "      <td>Cash</td>\n",
       "      <td>84</td>\n",
       "      <td>3.0</td>\n",
       "      <td>Yes</td>\n",
       "    </tr>\n",
       "    <tr>\n",
       "      <th>4</th>\n",
       "      <td>ORD1111</td>\n",
       "      <td>CUST762</td>\n",
       "      <td>REST1049</td>\n",
       "      <td>21-04-2024</td>\n",
       "      <td>1516.73</td>\n",
       "      <td>Chinese</td>\n",
       "      <td>Cash</td>\n",
       "      <td>29</td>\n",
       "      <td>3.0</td>\n",
       "      <td>No</td>\n",
       "    </tr>\n",
       "  </tbody>\n",
       "</table>\n",
       "</div>"
      ],
      "text/plain": [
       "   OrderID CustomerID RestaurantID   OrderDate  OrderValue  Cuisine  \\\n",
       "0  ORD1033    CUST671     REST1049    2/3/2024     1064.12   Indian   \n",
       "1  ORD1062    CUST787     REST1049    3/3/2024     1807.37   Indian   \n",
       "2  ORD1084    CUST657     REST1049  25-03-2024      775.98     Thai   \n",
       "3  ORD1094    CUST680     REST1049    4/4/2024     1826.73  Chinese   \n",
       "4  ORD1111    CUST762     REST1049  21-04-2024     1516.73  Chinese   \n",
       "\n",
       "  PaymentMethod  DeliveryTimeMinutes  CustomerRating PromoCodeUsed  \n",
       "0   Credit Card                   54             1.0           Yes  \n",
       "1   Credit Card                   89             4.0            No  \n",
       "2           UPI                   55             1.0           Yes  \n",
       "3          Cash                   84             3.0           Yes  \n",
       "4          Cash                   29             3.0            No  "
      ]
     },
     "execution_count": 84,
     "metadata": {},
     "output_type": "execute_result"
    }
   ],
   "source": [
    "# Order history Data preview  \n",
    "orderhistroy_df.head() "
   ]
  },
  {
   "cell_type": "code",
   "execution_count": 85,
   "id": "415b6de3",
   "metadata": {},
   "outputs": [
    {
     "name": "stdout",
     "output_type": "stream",
     "text": [
      "<class 'pandas.core.frame.DataFrame'>\n",
      "RangeIndex: 500 entries, 0 to 499\n",
      "Data columns (total 10 columns):\n",
      " #   Column               Non-Null Count  Dtype  \n",
      "---  ------               --------------  -----  \n",
      " 0   OrderID              500 non-null    object \n",
      " 1   CustomerID           500 non-null    object \n",
      " 2   RestaurantID         500 non-null    object \n",
      " 3   OrderDate            500 non-null    object \n",
      " 4   OrderValue           500 non-null    float64\n",
      " 5   Cuisine              500 non-null    object \n",
      " 6   PaymentMethod        500 non-null    object \n",
      " 7   DeliveryTimeMinutes  500 non-null    int64  \n",
      " 8   CustomerRating       476 non-null    float64\n",
      " 9   PromoCodeUsed        500 non-null    object \n",
      "dtypes: float64(2), int64(1), object(7)\n",
      "memory usage: 202.4 KB\n"
     ]
    }
   ],
   "source": [
    "# Order history data info\n",
    "orderhistroy_df.info(memory_usage=\"deep\")"
   ]
  },
  {
   "cell_type": "code",
   "execution_count": 86,
   "id": "6d3467f3",
   "metadata": {},
   "outputs": [
    {
     "data": {
      "text/plain": [
       "Cuisine\n",
       "Continental    125\n",
       "Chinese        109\n",
       "Mexican         94\n",
       "Italian         76\n",
       "Indian          56\n",
       "Thai            40\n",
       "Name: count, dtype: int64"
      ]
     },
     "execution_count": 86,
     "metadata": {},
     "output_type": "execute_result"
    }
   ],
   "source": [
    "# Types  of cuisines and counts \n",
    "orderhistroy_df[\"Cuisine\"].value_counts()"
   ]
  },
  {
   "cell_type": "code",
   "execution_count": null,
   "id": "259ffb82",
   "metadata": {},
   "outputs": [
    {
     "data": {
      "image/png": "[encoded data removed]",
      "text/plain": [
       "<Figure size 640x480 with 1 Axes>"
      ]
     },
     "metadata": {},
     "output_type": "display_data"
    }
   ],
   "source": [
    "# cuisines types - count plot \n",
    "\n",
    "sns.countplot(x = orderhistroy_df[\"Cuisine\"])\n",
    "plt.title(\"Distribution of Cuisines\")\n",
    "plt.show()"
   ]
  },
  {
   "cell_type": "code",
   "execution_count": 95,
   "id": "a41ec385",
   "metadata": {},
   "outputs": [
    {
     "name": "stdout",
     "output_type": "stream",
     "text": [
      "The Crowd Favorite Cuisines!\n"
     ]
    },
    {
     "data": {
      "text/html": [
       "<div>\n",
       "<style scoped>\n",
       "    .dataframe tbody tr th:only-of-type {\n",
       "        vertical-align: middle;\n",
       "    }\n",
       "\n",
       "    .dataframe tbody tr th {\n",
       "        vertical-align: top;\n",
       "    }\n",
       "\n",
       "    .dataframe thead th {\n",
       "        text-align: right;\n",
       "    }\n",
       "</style>\n",
       "<table border=\"1\" class=\"dataframe\">\n",
       "  <thead>\n",
       "    <tr style=\"text-align: right;\">\n",
       "      <th></th>\n",
       "      <th>Cuisine</th>\n",
       "      <th>count</th>\n",
       "    </tr>\n",
       "  </thead>\n",
       "  <tbody>\n",
       "    <tr>\n",
       "      <th>0</th>\n",
       "      <td>Continental</td>\n",
       "      <td>125</td>\n",
       "    </tr>\n",
       "    <tr>\n",
       "      <th>1</th>\n",
       "      <td>Chinese</td>\n",
       "      <td>109</td>\n",
       "    </tr>\n",
       "    <tr>\n",
       "      <th>2</th>\n",
       "      <td>Mexican</td>\n",
       "      <td>94</td>\n",
       "    </tr>\n",
       "  </tbody>\n",
       "</table>\n",
       "</div>"
      ],
      "text/plain": [
       "       Cuisine  count\n",
       "0  Continental    125\n",
       "1      Chinese    109\n",
       "2      Mexican     94"
      ]
     },
     "execution_count": 95,
     "metadata": {},
     "output_type": "execute_result"
    }
   ],
   "source": [
    "# Cuisines with more than 3 orders \n",
    "eligible_cuisines  = pd.DataFrame(orderhistroy_df[\"Cuisine\"].value_counts()).reset_index()\n",
    "eligible_cuisines = eligible_cuisines.loc[eligible_cuisines[\"count\"] > 85 , : ]\n",
    "print(\"The Crowd Favorite Cuisines!\")\n",
    "eligible_cuisines"
   ]
  }
 ],
 "metadata": {
  "kernelspec": {
   "display_name": "Python 3",
   "language": "python",
   "name": "python3"
  },
  "language_info": {
   "codemirror_mode": {
    "name": "ipython",
    "version": 3
   },
   "file_extension": ".py",
   "mimetype": "text/x-python",
   "name": "python",
   "nbconvert_exporter": "python",
   "pygments_lexer": "ipython3",
   "version": "3.12.3"
  }
 },
 "nbformat": 4,
 "nbformat_minor": 5
}
