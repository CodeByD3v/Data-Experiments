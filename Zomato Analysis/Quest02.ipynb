{
 "cells": [
  {
   "cell_type": "markdown",
   "id": "da21b953",
   "metadata": {},
   "source": [
    "# ZOMATO CASE STUDY\n",
    "## QUEST - 2 : The Cuisine Craze\n",
    "Zomato is also interested in which **cuisines are experiencing the highest demand:**\n",
    "\n",
    "- **Focus on cuisines with more than 3 orders.**\n",
    "\n",
    "```yml\n",
    " Which cuisines are the crowd favorites? Reveal the high demand cusines! \n",
    "\n",
    "```"
   ]
  },
  {
   "cell_type": "code",
   "execution_count": null,
   "id": "e2ed5f51",
   "metadata": {},
   "outputs": [],
   "source": []
  }
 ],
 "metadata": {
  "kernelspec": {
   "display_name": "Python 3",
   "language": "python",
   "name": "python3"
  },
  "language_info": {
   "name": "python",
   "version": "3.12.3"
  }
 },
 "nbformat": 4,
 "nbformat_minor": 5
}
