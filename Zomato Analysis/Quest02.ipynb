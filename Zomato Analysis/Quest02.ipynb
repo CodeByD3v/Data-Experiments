{
 "cells": [
  {
   "cell_type": "markdown",
   "id": "da21b953",
   "metadata": {},
   "source": [
    "# ZOMATO CASE STUDY\n",
    "## QUEST - 2 : The Cuisine Craze\n",
    "Zomato is also interested in which **cuisines are experiencing the highest demand:**\n",
    "\n",
    "- **Focus on cuisines with more than 3 orders.**\n",
    "\n",
    "```yml\n",
    " Which cuisines are the crowd favorites? Reveal the high demand cusines! \n",
    "\n",
    "```"
   ]
  },
  {
   "cell_type": "code",
   "execution_count": 45,
   "id": "e2ed5f51",
   "metadata": {},
   "outputs": [],
   "source": [
    "# Importing Libs\n",
    "import pandas as pd\n",
    "import matplotlib.pyplot as plt\n",
    "import seaborn as sns "
   ]
  },
  {
   "cell_type": "code",
   "execution_count": 46,
   "id": "34a5313f",
   "metadata": {},
   "outputs": [],
   "source": [
    "# Loading Data \n",
    "orderhistroy_df = pd.read_csv(\"Zomato_Promo_Order_History_Updated.csv\") # Order history  file"
   ]
  },
  {
   "cell_type": "code",
   "execution_count": 47,
   "id": "d4130768",
   "metadata": {},
   "outputs": [
    {
     "data": {
      "text/html": [
       "<div>\n",
       "<style scoped>\n",
       "    .dataframe tbody tr th:only-of-type {\n",
       "        vertical-align: middle;\n",
       "    }\n",
       "\n",
       "    .dataframe tbody tr th {\n",
       "        vertical-align: top;\n",
       "    }\n",
       "\n",
       "    .dataframe thead th {\n",
       "        text-align: right;\n",
       "    }\n",
       "</style>\n",
       "<table border=\"1\" class=\"dataframe\">\n",
       "  <thead>\n",
       "    <tr style=\"text-align: right;\">\n",
       "      <th></th>\n",
       "      <th>OrderID</th>\n",
       "      <th>CustomerID</th>\n",
       "      <th>RestaurantID</th>\n",
       "      <th>OrderDate</th>\n",
       "      <th>OrderValue</th>\n",
       "      <th>Cuisine</th>\n",
       "      <th>PaymentMethod</th>\n",
       "      <th>DeliveryTimeMinutes</th>\n",
       "      <th>CustomerRating</th>\n",
       "      <th>PromoCodeUsed</th>\n",
       "      <th>PromoCode</th>\n",
       "      <th>Zomato_Discount</th>\n",
       "      <th>Merchant_Discount</th>\n",
       "    </tr>\n",
       "  </thead>\n",
       "  <tbody>\n",
       "    <tr>\n",
       "      <th>0</th>\n",
       "      <td>ORD1000</td>\n",
       "      <td>CUST626</td>\n",
       "      <td>REST1034</td>\n",
       "      <td>1/1/2024</td>\n",
       "      <td>363.07</td>\n",
       "      <td>Italian</td>\n",
       "      <td>Wallet</td>\n",
       "      <td>29</td>\n",
       "      <td>3.0</td>\n",
       "      <td>Yes</td>\n",
       "      <td>PROMO9</td>\n",
       "      <td>11.05</td>\n",
       "      <td>10.25</td>\n",
       "    </tr>\n",
       "    <tr>\n",
       "      <th>1</th>\n",
       "      <td>ORD1007</td>\n",
       "      <td>CUST771</td>\n",
       "      <td>REST1027</td>\n",
       "      <td>8/1/2024</td>\n",
       "      <td>313.04</td>\n",
       "      <td>Continental</td>\n",
       "      <td>UPI</td>\n",
       "      <td>41</td>\n",
       "      <td>2.0</td>\n",
       "      <td>Yes</td>\n",
       "      <td>PROMO5</td>\n",
       "      <td>45.01</td>\n",
       "      <td>22.54</td>\n",
       "    </tr>\n",
       "    <tr>\n",
       "      <th>2</th>\n",
       "      <td>ORD1013</td>\n",
       "      <td>CUST636</td>\n",
       "      <td>REST1015</td>\n",
       "      <td>14/1/2024</td>\n",
       "      <td>724.01</td>\n",
       "      <td>Continental</td>\n",
       "      <td>UPI</td>\n",
       "      <td>49</td>\n",
       "      <td>4.0</td>\n",
       "      <td>Yes</td>\n",
       "      <td>PROMO3</td>\n",
       "      <td>132.40</td>\n",
       "      <td>76.33</td>\n",
       "    </tr>\n",
       "    <tr>\n",
       "      <th>3</th>\n",
       "      <td>ORD1015</td>\n",
       "      <td>CUST555</td>\n",
       "      <td>REST1028</td>\n",
       "      <td>16/1/2024</td>\n",
       "      <td>766.18</td>\n",
       "      <td>Continental</td>\n",
       "      <td>UPI</td>\n",
       "      <td>20</td>\n",
       "      <td>3.0</td>\n",
       "      <td>Yes</td>\n",
       "      <td>PROMO4</td>\n",
       "      <td>111.71</td>\n",
       "      <td>52.18</td>\n",
       "    </tr>\n",
       "    <tr>\n",
       "      <th>4</th>\n",
       "      <td>ORD1019</td>\n",
       "      <td>CUST645</td>\n",
       "      <td>REST1034</td>\n",
       "      <td>20/1/2024</td>\n",
       "      <td>1093.41</td>\n",
       "      <td>Chinese</td>\n",
       "      <td>Cash</td>\n",
       "      <td>25</td>\n",
       "      <td>4.0</td>\n",
       "      <td>Yes</td>\n",
       "      <td>PROMO8</td>\n",
       "      <td>14.45</td>\n",
       "      <td>8.70</td>\n",
       "    </tr>\n",
       "  </tbody>\n",
       "</table>\n",
       "</div>"
      ],
      "text/plain": [
       "   OrderID CustomerID RestaurantID  OrderDate  OrderValue      Cuisine  \\\n",
       "0  ORD1000    CUST626     REST1034   1/1/2024      363.07      Italian   \n",
       "1  ORD1007    CUST771     REST1027   8/1/2024      313.04  Continental   \n",
       "2  ORD1013    CUST636     REST1015  14/1/2024      724.01  Continental   \n",
       "3  ORD1015    CUST555     REST1028  16/1/2024      766.18  Continental   \n",
       "4  ORD1019    CUST645     REST1034  20/1/2024     1093.41      Chinese   \n",
       "\n",
       "  PaymentMethod  DeliveryTimeMinutes  CustomerRating PromoCodeUsed PromoCode  \\\n",
       "0        Wallet                   29             3.0           Yes    PROMO9   \n",
       "1           UPI                   41             2.0           Yes    PROMO5   \n",
       "2           UPI                   49             4.0           Yes    PROMO3   \n",
       "3           UPI                   20             3.0           Yes    PROMO4   \n",
       "4          Cash                   25             4.0           Yes    PROMO8   \n",
       "\n",
       "   Zomato_Discount  Merchant_Discount  \n",
       "0            11.05              10.25  \n",
       "1            45.01              22.54  \n",
       "2           132.40              76.33  \n",
       "3           111.71              52.18  \n",
       "4            14.45               8.70  "
      ]
     },
     "execution_count": 47,
     "metadata": {},
     "output_type": "execute_result"
    }
   ],
   "source": [
    "# Order history Data preview  \n",
    "orderhistroy_df.head() "
   ]
  },
  {
   "cell_type": "code",
   "execution_count": 48,
   "id": "415b6de3",
   "metadata": {},
   "outputs": [
    {
     "name": "stdout",
     "output_type": "stream",
     "text": [
      "<class 'pandas.core.frame.DataFrame'>\n",
      "RangeIndex: 149 entries, 0 to 148\n",
      "Data columns (total 13 columns):\n",
      " #   Column               Non-Null Count  Dtype  \n",
      "---  ------               --------------  -----  \n",
      " 0   OrderID              149 non-null    object \n",
      " 1   CustomerID           149 non-null    object \n",
      " 2   RestaurantID         149 non-null    object \n",
      " 3   OrderDate            149 non-null    object \n",
      " 4   OrderValue           149 non-null    float64\n",
      " 5   Cuisine              149 non-null    object \n",
      " 6   PaymentMethod        149 non-null    object \n",
      " 7   DeliveryTimeMinutes  149 non-null    int64  \n",
      " 8   CustomerRating       142 non-null    float64\n",
      " 9   PromoCodeUsed        149 non-null    object \n",
      " 10  PromoCode            149 non-null    object \n",
      " 11  Zomato_Discount      149 non-null    float64\n",
      " 12  Merchant_Discount    149 non-null    float64\n",
      "dtypes: float64(4), int64(1), object(8)\n",
      "memory usage: 70.8 KB\n"
     ]
    }
   ],
   "source": [
    "# Order history data info\n",
    "orderhistroy_df.info(memory_usage=\"deep\")"
   ]
  },
  {
   "cell_type": "code",
   "execution_count": 49,
   "id": "6d3467f3",
   "metadata": {},
   "outputs": [
    {
     "data": {
      "text/plain": [
       "Cuisine\n",
       "Continental    43\n",
       "Chinese        30\n",
       "Italian        28\n",
       "Mexican        22\n",
       "Indian         18\n",
       "Thai            8\n",
       "Name: count, dtype: int64"
      ]
     },
     "execution_count": 49,
     "metadata": {},
     "output_type": "execute_result"
    }
   ],
   "source": [
    "# Types  of cuisines and counts \n",
    "orderhistroy_df[\"Cuisine\"].value_counts()"
   ]
  },
  {
   "cell_type": "code",
   "execution_count": 50,
   "id": "259ffb82",
   "metadata": {},
   "outputs": [
    {
     "data": {
      "image/png": "[encoded data removed]",
      "text/plain": [
       "<Figure size 640x480 with 1 Axes>"
      ]
     },
     "metadata": {},
     "output_type": "display_data"
    }
   ],
   "source": [
    "# cuisines types - count plot \n",
    "# cuisines_types = pd.DataFrame(orderhistroy_df[\"Cuisine\"].value_counts()).reset_index()\n",
    "\n",
    "sns.countplot(x = orderhistroy_df[\"Cuisine\"])\n",
    "plt.title(\"Distribution of Cuisines\")\n",
    "plt.show()"
   ]
  }
 ],
 "metadata": {
  "kernelspec": {
   "display_name": "Python 3",
   "language": "python",
   "name": "python3"
  },
  "language_info": {
   "codemirror_mode": {
    "name": "ipython",
    "version": 3
   },
   "file_extension": ".py",
   "mimetype": "text/x-python",
   "name": "python",
   "nbconvert_exporter": "python",
   "pygments_lexer": "ipython3",
   "version": "3.12.3"
  }
 },
 "nbformat": 4,
 "nbformat_minor": 5
}
